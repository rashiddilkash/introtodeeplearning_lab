{
  "nbformat": 4,
  "nbformat_minor": 0,
  "metadata": {
    "colab": {
      "name": "Lab3_rl.ipynb",
      "version": "0.3.2",
      "provenance": [],
      "collapsed_sections": []
    },
    "kernelspec": {
      "name": "python2",
      "display_name": "Python 2"
    },
    "accelerator": "GPU"
  },
  "cells": [
    {
      "metadata": {
        "id": "WoXYKhfZMHiw",
        "colab_type": "text"
      },
      "cell_type": "markdown",
      "source": [
        "<table align=\"center\">\n",
        "  <td align=\"center\"><a target=\"_blank\" href=\"http://introtodeeplearning.com\">\n",
        "        <img src=\"http://introtodeeplearning.com/images/colab/mit.png\" style=\"padding-bottom:5px;\" />\n",
        "      Visit MIT Deep Learning</a></td>\n",
        "  <td align=\"center\"><a target=\"_blank\" href=\"https://colab.research.google.com/github/aamini/introtodeeplearning_labs/blob/master/lab3/Lab3_rl.ipynb\">\n",
        "        <img src=\"http://introtodeeplearning.com/images/colab/colab.png?v2.0\"  style=\"padding-bottom:5px;\" />Run in Google Colab</a></td>\n",
        "  <td align=\"center\"><a target=\"_blank\" href=\"https://github.com/aamini/introtodeeplearning_labs/blob/master/lab3/Lab3_rl.ipynb\">\n",
        "        <img src=\"http://introtodeeplearning.com/images/colab/github.png\"  height=\"70px\" style=\"padding-bottom:5px;\"  />View Source on GitHub</a></td>\n",
        "</table>\n",
        "\n",
        "# Lab 3: Model-Free Reinforcement Learning\n",
        "\n",
        "Reinforcement learning (RL) is a subset of machine learning which poses learning problems as interactions between agents and environments. It often assumes agents have no prior knowledge of the given world, so they must learn to navigate environments by optimizing some provided reward function. Within a world, an agent can take certain actions and receive feedback--in the form of positive or negative rewards--with respect to their decision. As such, an agent's feedback loop is somewhat akin to the manner in which a child might learn to distinguish between \"good\" and \"bad\" actions. In practical terms, our RL agent will interact with the environment by taking an action at each timestep, receiving a corresponding reward, and updating its state according to what it's \"learned\".  \n",
        "\n",
        "![alt text](https://www.kdnuggets.com/images/reinforcement-learning-fig1-700.jpg)\n",
        "\n",
        "## Why do we care about games? \n",
        "While the ultimate goal of reinforcement learning is to teach agents to act in the real, physical world, games provide a set of very useful properties that we also care about: \n",
        "\n",
        "1.   In many cases, games have perfectly describable enviornments. For example, all rules of chess can be formally written and programmed into a chess game simulator;\n",
        "2.   Massively parallelizable. Do not require running in the real world, therefore simultaneous environments can be run on large data clusters; \n",
        "3.   Fast prototyping of algorithms on simpler scenarios can speed up the development of algorithms that could eventually run in the real-world; and\n",
        "4.   ... Games are fun! \n",
        "\n",
        "In this lab, we focus on building a model-free reinforcement learning algorithm to master two different enviornments with varying complexity. \n",
        "\n",
        "1.   **Cartpole:   Balance a pole in an upright position by only moving your base left or right. Low-dimensional observation space.**\n",
        "2.   **Pong:   Beat a classical AI system designed at the game of Pong. High-dimensional observational space -- learning directly from raw pixels!  **\n"
      ]
    },
    {
      "metadata": {
        "id": "zmrHSiXKTXTY",
        "colab_type": "text"
      },
      "cell_type": "markdown",
      "source": [
        "#Part 1: Cartpole\n",
        "\n",
        "Since we're no longer dealing with a supervised learning task, let's take a step back and outline our approach to the problem. First, we'll need to create our environment and initialize our agent. Moreover, we'll need to provide our agent with some sort of mechanism for remembering action and reward history... in other words, a memory bank. Then we'll need to define our learning algorithm, much like we've done in previous labs.\n",
        "\n",
        "\n",
        "First we'll import TensorFlow, enable Eager execution, and also import some dependencies."
      ]
    },
    {
      "metadata": {
        "id": "xk5qeNPWCm00",
        "colab_type": "code",
        "colab": {
          "base_uri": "https://localhost:8080/",
          "height": 72
        },
        "outputId": "9b87b241-0cc1-4398-8fa9-56be82bba496"
      },
      "cell_type": "code",
      "source": [
        "!apt-get install -y xvfb python-opengl > /dev/null 2>&1\n",
        "!pip install gym pyvirtualdisplay scikit-video > /dev/null 2>&1\n",
        "\n",
        "import tensorflow as tf\n",
        "tf.enable_eager_execution()\n",
        "\n",
        "\n",
        "import gym\n",
        "import numpy as np\n",
        "import matplotlib.pyplot as plt\n",
        "from IPython import display as ipythondisplay\n",
        "import time\n",
        "\n",
        "# Download the class repository\n",
        "! git clone https://github.com/aamini/introtodeeplearning_labs.git  > /dev/null 2>&1\n",
        "% cd introtodeeplearning_labs \n",
        "! git pull\n",
        "% cd .. \n",
        "\n",
        "import introtodeeplearning_labs as util"
      ],
      "execution_count": 1,
      "outputs": [
        {
          "output_type": "stream",
          "text": [
            "/content/introtodeeplearning_labs\n",
            "Already up to date.\n",
            "/content\n"
          ],
          "name": "stdout"
        }
      ]
    },
    {
      "metadata": {
        "id": "UT7YL8KBJIIc",
        "colab_type": "text"
      },
      "cell_type": "markdown",
      "source": [
        "### 1.1 Define and inspect the environment\n",
        "\n",
        "In order to model our environment, we'll be using a toolkit developed by OpenAI, [OpenAI Gym](https://gym.openai.com/). It provides several pre-defined environments for training and testing reinforcement learning agents, including those for classic physics control tasks, Atari video games, and robotic simulations. To access the basic version of a control task, \"Cart Pole\", we can use `env = gym.make(\"CartPole-v0\")`. When we imported `gym`, we gained access to higher level functions in the package, including creating virtual worlds. Each environment has a specific identifier (for which you can read through [here](https://gym.openai.com/envs/#classic_control)) which is accessed by passing the environment name as a string variable.\n",
        "One issue we might experience when developing RL algorithms is that many aspects of the learning process are inherently random: initializing game states, changes in the environment, and the agent's actions. As such, it can be helpful to set a random \"seed\" for one of these variables to ensure some level of reproducibility. Much like you might use `numpy.random.seed`, we can call the comparable function in gym, `seed`, with our defined environment to ensure the environment's random variables are initialized the same each time. "
      ]
    },
    {
      "metadata": {
        "id": "quv9SC0iIYFm",
        "colab_type": "code",
        "colab": {
          "base_uri": "https://localhost:8080/",
          "height": 35
        },
        "outputId": "e243f893-c414-49e5-ca64-99332a689f40"
      },
      "cell_type": "code",
      "source": [
        "env = gym.make(\"CartPole-v0\")\n",
        "env.seed(1) # reproducible, since RL has high variance"
      ],
      "execution_count": 2,
      "outputs": [
        {
          "output_type": "execute_result",
          "data": {
            "text/plain": [
              "[1L]"
            ]
          },
          "metadata": {
            "tags": []
          },
          "execution_count": 2
        }
      ]
    },
    {
      "metadata": {
        "id": "mhEITUcKK455",
        "colab_type": "text"
      },
      "cell_type": "markdown",
      "source": [
        "\n",
        "**CartPole Environment: ** \n",
        "\n",
        "A pole is attached by an un-actuated joint to a cart, which moves along a frictionless track. The system is controlled by applying a force of +1 or -1 to the cart. The pendulum starts upright, and the goal is to prevent it from falling over. A reward of +1 is provided for every timestep that the pole remains upright. The episode ends when the pole is more than 15 degrees from vertical, or the cart moves more than 2.4 units from the center.\n",
        "\n",
        "<img width=\"400px\" src=\"https://danielpiedrahita.files.wordpress.com/2017/02/cart-pole.png\"></img>\n",
        "\n",
        "Observations:\n",
        "\n",
        "1. position of cart\n",
        "2. velocity of cart\n",
        "3. angle of pole\n",
        "4. rotation rate of pole\n",
        "\n",
        "We can confirm the size of the space by querying the observation space:\n"
      ]
    },
    {
      "metadata": {
        "id": "UVJaEcbdIX82",
        "colab_type": "code",
        "colab": {
          "base_uri": "https://localhost:8080/",
          "height": 35
        },
        "outputId": "d344e5b9-5e2b-4595-e5e9-cf51742424f2"
      },
      "cell_type": "code",
      "source": [
        "print \"Enviornment has observation space = {}\".format(env.observation_space)"
      ],
      "execution_count": 3,
      "outputs": [
        {
          "output_type": "stream",
          "text": [
            "Enviornment has observation space = Box(4,)\n"
          ],
          "name": "stdout"
        }
      ]
    },
    {
      "metadata": {
        "id": "ZibGgjrALgPM",
        "colab_type": "text"
      },
      "cell_type": "markdown",
      "source": [
        "At every time step, the agent can move either right or left. Confirm the size of the action space by querying the environment:"
      ]
    },
    {
      "metadata": {
        "id": "qc9SIPxBIXrm",
        "colab_type": "code",
        "colab": {
          "base_uri": "https://localhost:8080/",
          "height": 35
        },
        "outputId": "705d0974-a310-4939-bfea-83c588c0e709"
      },
      "cell_type": "code",
      "source": [
        "n_actions = env.action_space.n\n",
        "print \"Number of possible actions that the agent can choose from = {}\".format(n_actions)"
      ],
      "execution_count": 4,
      "outputs": [
        {
          "output_type": "stream",
          "text": [
            "Number of possible actions that the agent can choose from = 2\n"
          ],
          "name": "stdout"
        }
      ]
    },
    {
      "metadata": {
        "id": "pPfHME8aRKkb",
        "colab_type": "text"
      },
      "cell_type": "markdown",
      "source": [
        "### 1.2 Define the Agent\n",
        "\n",
        "Let's define our agent, which is simply a deep neural network which takes as input an observation of the enviornment and outputs the probability of taking each of the possible actions. \n"
      ]
    },
    {
      "metadata": {
        "id": "W-o_XK4oQ4eu",
        "colab_type": "code",
        "colab": {}
      },
      "cell_type": "code",
      "source": [
        "def create_cartpole_model():\n",
        "  model = tf.keras.models.Sequential([\n",
        "      tf.keras.layers.Dense(units=32, activation='relu'),\n",
        "      # TODO: define the output dimension of the last Dense layer\n",
        "      # Hint: think about that the space the agent needs to act in\n",
        "      tf.keras.layers.Dense(units=n_actions, activation=None) # TODO\n",
        "  ])\n",
        "  return model\n",
        "\n",
        "cartpole_model = create_cartpole_model()"
      ],
      "execution_count": 0,
      "outputs": []
    },
    {
      "metadata": {
        "id": "d5D5NSIYS2IW",
        "colab_type": "text"
      },
      "cell_type": "markdown",
      "source": [
        "Define the action function that executes a forward pass through the network and samples from the output. Take special note of the output activation of the model."
      ]
    },
    {
      "metadata": {
        "id": "E_vVZRr8Q4R_",
        "colab_type": "code",
        "colab": {}
      },
      "cell_type": "code",
      "source": [
        "def choose_action(model, observation):\n",
        "    \n",
        "  observation = observation.reshape([1, -1])\n",
        "  '''TODO: feed the observations through the model to predict the log probabilities of each possible action.'''\n",
        "  logits = model.predict(observation)# TODO\n",
        "  \n",
        "  # pass the log probabilities through a softmax to compute true probabilities\n",
        "  prob_weights = tf.nn.softmax(logits).numpy()\n",
        "  \n",
        "  '''TODO: randomly sample from the prob_weights to pick an action.\n",
        "  Hint: carefully consider the dimensionality of the input probabilities (vector) and the output action (scalar)'''\n",
        "  action = np.random.choice(n_actions, size=1, p=prob_weights.flatten())[0]# TODO\n",
        "\n",
        "  return action"
      ],
      "execution_count": 0,
      "outputs": []
    },
    {
      "metadata": {
        "id": "_tR9uAWcTnkr",
        "colab_type": "text"
      },
      "cell_type": "markdown",
      "source": [
        "### 1.3 Create the agent's memory\n",
        "\n",
        "During training, the agent will need to remember all of its observations, actions so that once the episode ends, it can \"reinforce\" the good actions and punish the undesirable actions. Let's do this by defining a simple memory buffer that contains the agent's observations, actions, and received rewards from a given episode. "
      ]
    },
    {
      "metadata": {
        "id": "8MM6JwXVQ4JG",
        "colab_type": "code",
        "colab": {}
      },
      "cell_type": "code",
      "source": [
        "class Memory:\n",
        "  def __init__(self): \n",
        "      self.clear()\n",
        "\n",
        "  def clear(self): \n",
        "      self.observations = []\n",
        "      self.actions = []\n",
        "      self.rewards = []\n",
        "\n",
        "  def add_to_memory(self, new_observation, new_action, new_reward): \n",
        "      self.observations.append(new_observation)\n",
        "      '''TODO: update the list of actions with new action'''\n",
        "      self.actions.append(new_action)# TODO\n",
        "      '''TODO: update the list of rewards with new reward'''\n",
        "      self.rewards.append(new_reward)# TODO\n",
        "        \n",
        "memory = Memory()"
      ],
      "execution_count": 0,
      "outputs": []
    },
    {
      "metadata": {
        "id": "D4YhtPaUVj5m",
        "colab_type": "text"
      },
      "cell_type": "markdown",
      "source": [
        "We're almost ready to begin the learning algorithm for our agent! The final step is to compute the discounted rewards of our agent. Recall from lecture, we use reward discount to give more preference at getting rewards now rather than later in the future. The idea of discounting rewards is similar to discounting money in the case of interest and can be defined as: \n",
        "\n",
        ">$R_{t}=\\sum_{k=0}^\\infty\\gamma^kr_{t+k}$\n",
        "\n",
        "where  $\\gamma$ is the discount factor. In other words, at the end of an episode, we'll want to depreciate any rewards received at later time steps. Since we can't play an infinite number of games, we'll be limited to the number of timesteps in an episode. When implementing the function, you can initialize a numpy array of zeros (with length of the number of time steps) and fill it with the real discounted reward values as you loop through the saved rewards from the episode. We'll also want to normalize our output, which you can do using information about the mean and standard deviation of the discounted rewards.\n"
      ]
    },
    {
      "metadata": {
        "id": "5_Q2OFYtQ32X",
        "colab_type": "code",
        "colab": {}
      },
      "cell_type": "code",
      "source": [
        "def normalize(x):\n",
        "  x -= np.mean(x)\n",
        "  x /= np.std(x)\n",
        "  return x\n",
        "\n",
        "def discount_rewards(rewards, gamma=0.95): \n",
        "  discounted_rewards = np.zeros_like(rewards)\n",
        "  R = 0\n",
        "  for t in reversed(range(0, len(rewards))):\n",
        "      # update the total discounted reward\n",
        "      R = R * gamma + rewards[t]\n",
        "      discounted_rewards[t] = R\n",
        "      \n",
        "  return normalize(discounted_rewards)"
      ],
      "execution_count": 0,
      "outputs": []
    },
    {
      "metadata": {
        "id": "QzbY-mjGYcmt",
        "colab_type": "text"
      },
      "cell_type": "markdown",
      "source": [
        "### 1.4 Define the learning algorithm\n",
        "\n",
        "Now we can start to define the learing algorithm which will be used to reinforce good behaviors of the agent and discourage bad behaviours. Start by defining the optimizer we want to use."
      ]
    },
    {
      "metadata": {
        "id": "m3u6xDNMY0zg",
        "colab_type": "code",
        "colab": {}
      },
      "cell_type": "code",
      "source": [
        "learning_rate = 1e-3\n",
        "optimizer = tf.train.AdamOptimizer(learning_rate)"
      ],
      "execution_count": 0,
      "outputs": []
    },
    {
      "metadata": {
        "id": "M-LJwWqTZegG",
        "colab_type": "text"
      },
      "cell_type": "markdown",
      "source": [
        "And now let's define the loss function. In this lab we are focusing on policy gradient methods which aim to **maximize** the likelihood of actions that result in large rewards. Equivalently, this means that we want to **minimize** the negative likelihood of these same actions. Like in supervised learning, we can use stochastic gradient descent methods to achieve this minimization. \n",
        "\n",
        "Since the log function is monotonically increasing, this means that minimizing negative **likelihood** is equivalent to minimizing negative **log-likelihood**.  Recall that we can easily compute the negative log-likelihood of an discrete action by evaluting its softmax cross entropy (https://www.tensorflow.org/api_docs/python/tf/nn/sparse_softmax_cross_entropy_with_logits) "
      ]
    },
    {
      "metadata": {
        "id": "fsgZ3IDCY_Zn",
        "colab_type": "code",
        "colab": {}
      },
      "cell_type": "code",
      "source": [
        "def compute_loss(logits, actions, rewards): \n",
        "  '''TODO: complete the call to compute the loss'''\n",
        "  neg_logprob = tf.nn.sparse_softmax_cross_entropy_with_logits(logits=logits, labels=actions) # TODO\n",
        "  '''TODO: scale the negative log probability by the rewards'''\n",
        "  loss = tf.reduce_mean( neg_logprob*rewards ) # TODO\n",
        "  return loss"
      ],
      "execution_count": 0,
      "outputs": []
    },
    {
      "metadata": {
        "id": "Rr5vQ9fqbPpp",
        "colab_type": "text"
      },
      "cell_type": "markdown",
      "source": [
        "Now let's use the loss function to define a backpropogation step of our learning algorithm."
      ]
    },
    {
      "metadata": {
        "id": "_50ada7nbZ7L",
        "colab_type": "code",
        "colab": {}
      },
      "cell_type": "code",
      "source": [
        "def train_step(model, optimizer, observations, actions, discounted_rewards):\n",
        "  with tf.GradientTape() as tape:\n",
        "      # Forward propogate through the agent\n",
        "      observations = tf.convert_to_tensor(observations, dtype=tf.float32)\n",
        "      logits = model(observations)\n",
        "\n",
        "      '''TODO: call the compute_loss function to compute the loss'''\n",
        "      loss = compute_loss(logits,actions,discounted_rewards)# TODO\n",
        "\n",
        "  '''TODO: run backpropagation using the tape.gradient method'''\n",
        "  grads = tape.gradient(loss, model.variables) # TODO\n",
        "  optimizer.apply_gradients(zip(grads, model.variables), global_step=tf.train.get_or_create_global_step())"
      ],
      "execution_count": 0,
      "outputs": []
    },
    {
      "metadata": {
        "id": "XsjKXh6BcgjR",
        "colab_type": "text"
      },
      "cell_type": "markdown",
      "source": [
        "### 1.5 Let the agent go and watch it learn from scratch!\n",
        "\n",
        "Having had no prior knowledge of the environment, the agent will begin to learn how to balance the pole on the cart based only on the feedback received from the environment! Having defined how our agent can move, how it takes in new observations, and how it updates its state, we'll see how it gradually learns a policy of actions to optimize balancing the pole as long as possible.\n",
        "\n"
      ]
    },
    {
      "metadata": {
        "id": "XmOzc2rrcn8Q",
        "colab_type": "code",
        "colab": {
          "base_uri": "https://localhost:8080/",
          "height": 705
        },
        "outputId": "2bb42627-48f6-4887-c8a9-c0139533894f"
      },
      "cell_type": "code",
      "source": [
        "cartpole_model = create_cartpole_model()\n",
        "\n",
        "smoothed_reward = util.LossHistory(smoothing_factor=0.9)\n",
        "plotter = util.PeriodicPlotter(sec=5, xlabel='Iterations', ylabel='Rewards')\n",
        "\n",
        "\n",
        "for i_episode in range(1000):\n",
        "\n",
        "  plotter.plot(smoothed_reward.get())\n",
        "\n",
        "  # Restart the environment\n",
        "  observation = env.reset()\n",
        "\n",
        "  while True:\n",
        "      # using our observation, take an action\n",
        "      action = choose_action(cartpole_model, observation)\n",
        "      next_observation, reward, done, info = env.step(action)\n",
        "      # add to memory\n",
        "      memory.add_to_memory(observation, action, reward)\n",
        "      \n",
        "      # is the episode over? did you crash or do so well that you're done?\n",
        "      if done:\n",
        "          # determine total reward and keep a record of this\n",
        "          total_reward = sum(memory.rewards)\n",
        "          smoothed_reward.append( total_reward )\n",
        "          \n",
        "          # initiate training - remember we don't know anything about how the agent is doing until it's crashed!\n",
        "          train_step(cartpole_model, \n",
        "                     optimizer, \n",
        "                     observations = np.vstack(memory.observations),\n",
        "                     actions = np.array(memory.actions),\n",
        "                     discounted_rewards = discount_rewards(memory.rewards)\n",
        "                    )\n",
        "          \n",
        "          memory.clear()\n",
        "          break\n",
        "      # update our observatons\n",
        "      observation = next_observation"
      ],
      "execution_count": 14,
      "outputs": [
        {
          "output_type": "display_data",
          "data": {
            "image/png": "[encoded data removed]",
            "text/plain": [
              "<Figure size 576x396 with 1 Axes>"
            ]
          },
          "metadata": {
            "tags": []
          }
        },
        {
          "output_type": "display_data",
          "data": {
            "image/png": "[encoded data removed]",
            "text/plain": [
              "<Figure size 576x396 with 1 Axes>"
            ]
          },
          "metadata": {
            "tags": []
          }
        }
      ]
    },
    {
      "metadata": {
        "id": "mkcUtGF1VE-K",
        "colab_type": "text"
      },
      "cell_type": "markdown",
      "source": [
        "### 1.6 Save a video of the trained model while it is balancing the pole"
      ]
    },
    {
      "metadata": {
        "id": "M40RoTBxo3HD",
        "colab_type": "code",
        "colab": {
          "base_uri": "https://localhost:8080/",
          "height": 35
        },
        "outputId": "ae402ec2-d4f0-4c54-b1d7-5525cedb6d76"
      },
      "cell_type": "code",
      "source": [
        "def save_video_of_model(model, env_name, filename='agent.mp4'):  \n",
        "  import skvideo.io\n",
        "  from pyvirtualdisplay import Display\n",
        "  display = Display(visible=0, size=(40, 30))\n",
        "  display.start()\n",
        "\n",
        "  env = gym.make(env_name)\n",
        "  obs = env.reset()\n",
        "  shape = env.render(mode='rgb_array').shape[0:2]\n",
        "\n",
        "  out = skvideo.io.FFmpegWriter(filename)\n",
        "\n",
        "  done = False\n",
        "  while not done: \n",
        "      frame = env.render(mode='rgb_array')\n",
        "      out.writeFrame(frame)\n",
        "      \n",
        "      action = model(tf.convert_to_tensor(obs.reshape((1,-1)), tf.float32)).numpy().argmax()\n",
        "      obs, reward, done, info = env.step(action)\n",
        "  out.close()\n",
        "  print \"Successfully saved into {}!\".format(filename)\n",
        "\n",
        "save_video_of_model(cartpole_model, \"CartPole-v0\")"
      ],
      "execution_count": 15,
      "outputs": [
        {
          "output_type": "stream",
          "text": [
            "Successfully saved into agent.mp4!\n"
          ],
          "name": "stdout"
        }
      ]
    },
    {
      "metadata": {
        "id": "dvvqdwO7VV_L",
        "colab_type": "text"
      },
      "cell_type": "markdown",
      "source": [
        "### 1.7 Display the saved video\n"
      ]
    },
    {
      "metadata": {
        "id": "DBjhWQ0XwQ1d",
        "colab_type": "code",
        "colab": {
          "base_uri": "https://localhost:8080/",
          "height": 421
        },
        "outputId": "29dd10fb-8860-43a5-d38c-9cf4af29905b"
      },
      "cell_type": "code",
      "source": [
        "from IPython.display import HTML\n",
        "import io, base64\n",
        "video = io.open('./agent.mp4', 'r+b').read()\n",
        "encoded = base64.b64encode(video)\n",
        "HTML(data='''\n",
        "<video controls>\n",
        "    <source src=\"data:video/mp4;base64,{0}\" type=\"video/mp4\" />\n",
        "</video>'''.format(encoded.decode('ascii')))"
      ],
      "execution_count": 17,
      "outputs": [
        {
          "output_type": "execute_result",
          "data": {
            "text/html": [
              "\n",
              "<video controls>\n",
              "    <source src=\"data:video/mp4;base64,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\" type=\"video/mp4\" />\n",
              "</video>"
            ],
            "text/plain": [
              "<IPython.core.display.HTML object>"
            ]
          },
          "metadata": {
            "tags": []
          },
          "execution_count": 17
        }
      ]
    },
    {
      "metadata": {
        "id": "CSbVNDpaVb3_",
        "colab_type": "text"
      },
      "cell_type": "markdown",
      "source": [
        "Congratulations, well done! How does the agent perform? Could you train it for shorter amounts of time and still perform well? Would training longer help even more? "
      ]
    },
    {
      "metadata": {
        "id": "Eu6Mqxc720ST",
        "colab_type": "text"
      },
      "cell_type": "markdown",
      "source": [
        "#Part 2: Pong\n",
        "\n",
        "In Cart Pole, we dealt with an environment that was static--in other words, it didn't change over time. What happens if our environment is dynamic and unpredictable? Well that's exactly the case in Pong, since part of the environment is our opposing player. We don't know how our opponent will act or react to our actions, so the complexity of our problem increases. It also becomes much more interesting, since we can compete to beat our opponent."
      ]
    },
    {
      "metadata": {
        "id": "srZ4YE29isuA",
        "colab_type": "text"
      },
      "cell_type": "markdown",
      "source": [
        "### 2.1 Define and inspect the environment"
      ]
    },
    {
      "metadata": {
        "id": "lbYHLr66i15n",
        "colab_type": "code",
        "colab": {
          "base_uri": "https://localhost:8080/",
          "height": 35
        },
        "outputId": "a832384b-95c8-406c-f60c-e1ba57789782"
      },
      "cell_type": "code",
      "source": [
        "env = gym.make(\"Pong-v0\")\n",
        "env.seed(1) # reproducible, since RL has high variance"
      ],
      "execution_count": 18,
      "outputs": [
        {
          "output_type": "execute_result",
          "data": {
            "text/plain": [
              "[1L, 289714752L]"
            ]
          },
          "metadata": {
            "tags": []
          },
          "execution_count": 18
        }
      ]
    },
    {
      "metadata": {
        "id": "52uZ2Xhyi-MW",
        "colab_type": "text"
      },
      "cell_type": "markdown",
      "source": [
        "Observations: \n",
        "\n",
        "1. RGB image of shape (210, 160, 3)\n",
        "\n",
        "We can again confirm the size of the observation space by query:"
      ]
    },
    {
      "metadata": {
        "id": "0yX4GWvxjnHS",
        "colab_type": "code",
        "colab": {
          "base_uri": "https://localhost:8080/",
          "height": 35
        },
        "outputId": "5c0f7a42-b5d1-464c-95d5-a00c6fb3b0cf"
      },
      "cell_type": "code",
      "source": [
        "print \"Enviornment has observation space = {}\".format(env.observation_space)"
      ],
      "execution_count": 19,
      "outputs": [
        {
          "output_type": "stream",
          "text": [
            "Enviornment has observation space = Box(210, 160, 3)\n"
          ],
          "name": "stdout"
        }
      ]
    },
    {
      "metadata": {
        "id": "uuEC2TdSjx9D",
        "colab_type": "text"
      },
      "cell_type": "markdown",
      "source": [
        "At every time step, the agent has six actions to choose from: noop, fire, move right, move left, fire right, and fire left. Let's confirm the size of the action space by querying the environment:"
      ]
    },
    {
      "metadata": {
        "id": "Iuy9oPc1kag3",
        "colab_type": "code",
        "colab": {
          "base_uri": "https://localhost:8080/",
          "height": 35
        },
        "outputId": "ede0f7fa-6c28-4ef2-c0da-8e45d8ce4059"
      },
      "cell_type": "code",
      "source": [
        "n_actions = env.action_space.n\n",
        "print \"Number of possible actions that the agent can choose from = {}\".format(n_actions)"
      ],
      "execution_count": 20,
      "outputs": [
        {
          "output_type": "stream",
          "text": [
            "Number of possible actions that the agent can choose from = 6\n"
          ],
          "name": "stdout"
        }
      ]
    },
    {
      "metadata": {
        "id": "9-fghDRigUE5",
        "colab_type": "text"
      },
      "cell_type": "markdown",
      "source": [
        "### 2.2 Define the Agent\n",
        "\n",
        "We'll define our agent again, but this time, we'll add convolutional layers to the network to increase the learning capacity of our network."
      ]
    },
    {
      "metadata": {
        "id": "IJiqbFYpgYRH",
        "colab_type": "code",
        "colab": {}
      },
      "cell_type": "code",
      "source": [
        "def create_pong_model():\n",
        "  model = tf.keras.models.Sequential([\n",
        "      # Define and reshape inputs\n",
        "      tf.keras.layers.InputLayer(input_shape=(6400,), dtype=tf.float32),\n",
        "      tf.keras.layers.Reshape((80, 80, 1)),\n",
        "      \n",
        "      # Convolutional layers\n",
        "      tf.keras.layers.Conv2D(filters=16, kernel_size=(8,8), strides=(4,4), activation='relu', padding='same'),\n",
        "      # TODO: define a convolutional layer with 32 4x4 filters and 2x2 stride, ReLu activation\n",
        "      tf.keras.layers.Conv2D(filters=32, kernel_size=(4,4), strides=(2,2), activation='relu', padding='same'), # TODO\n",
        "      tf.keras.layers.Flatten(),\n",
        "      \n",
        "      # Fully connected layer and output\n",
        "      tf.keras.layers.Dense(units=256, activation='relu'),\n",
        "      # TODO: define the output dimension of the last Dense layer\n",
        "      # Hint: think about that the space the agent needs to act in\n",
        "      tf.keras.layers.Dense(units=n_actions, activation=None) # TODO\n",
        "  ])\n",
        "  return model\n",
        "\n",
        "pong_model = create_pong_model()"
      ],
      "execution_count": 0,
      "outputs": []
    },
    {
      "metadata": {
        "id": "yaeZ067olFiJ",
        "colab_type": "text"
      },
      "cell_type": "markdown",
      "source": [
        "Since we've already defined the action function, `choose_action(model, observation)`, we don't need to define it again. Instead, we'll be able to reuse it later on by passing in our new model we've just created, `pong_model`. "
      ]
    },
    {
      "metadata": {
        "id": "l0RvqOVkmc2r",
        "colab_type": "text"
      },
      "cell_type": "markdown",
      "source": [
        "### 2.3 Helper Functions"
      ]
    },
    {
      "metadata": {
        "id": "g4xtfog0mupM",
        "colab_type": "text"
      },
      "cell_type": "markdown",
      "source": [
        "We've already implemented some functions in Part 1 (Cartpole), so we won't need to recreate them in this section. However, we might need to make some slight modifications. For example, we need to reset the reward to zero when a game ends. In Pong, we know a game has ended if the reward is +1 (we won!) or -1 (we lost unfortunately). Otherwise, we expect the reward at a timestep to be zero. Also, note that we've increased gamma from 0.95 to 0.99, so the rate of decay will be even more rapid."
      ]
    },
    {
      "metadata": {
        "id": "iEZG2o50luLu",
        "colab_type": "code",
        "colab": {}
      },
      "cell_type": "code",
      "source": [
        "def discount_rewards(rewards, gamma=0.99): \n",
        "  discounted_rewards = np.zeros_like(rewards)\n",
        "  R = 0\n",
        "  for t in reversed(range(0, len(rewards))):\n",
        "      # NEW: Reset sum\n",
        "      if rewards[t] != 0:\n",
        "        R = 0\n",
        "      # update the total discounted reward as before\n",
        "      R = R * gamma + rewards[t]\n",
        "      discounted_rewards[t] = R\n",
        "      \n",
        "  return normalize(discounted_rewards)"
      ],
      "execution_count": 0,
      "outputs": []
    },
    {
      "metadata": {
        "id": "HopLpb4IoOqA",
        "colab_type": "text"
      },
      "cell_type": "markdown",
      "source": [
        "Before we input an image into our network, we'll need to pre-process it by converting it into a 1D array of floating point numbers:"
      ]
    },
    {
      "metadata": {
        "id": "Drpkn38Goout",
        "colab_type": "code",
        "colab": {}
      },
      "cell_type": "code",
      "source": [
        "def pre_process(image):\n",
        "  I = image[35:195] # Crop\n",
        "  I = I[::2, ::2, 0] # Downsample width and height by a factor of 2\n",
        "  I[I == 144] = 0 # Remove background type 1\n",
        "  I[I == 109] = 0 # Remove background type 2\n",
        "  I[I != 0] = 1 # Set remaining elements (paddles, ball, etc.) to 1\n",
        "  return I.astype(np.float).ravel()"
      ],
      "execution_count": 0,
      "outputs": []
    },
    {
      "metadata": {
        "id": "-tP8_Bna6pgJ",
        "colab_type": "text"
      },
      "cell_type": "markdown",
      "source": [
        "Let's use this function to visualize what an observation might look like before and after pre-processing"
      ]
    },
    {
      "metadata": {
        "id": "no5IIYtFm8pI",
        "colab_type": "code",
        "colab": {
          "base_uri": "https://localhost:8080/",
          "height": 301
        },
        "outputId": "210d3722-283b-4eb9-eb43-d2def48b2e9b"
      },
      "cell_type": "code",
      "source": [
        "observation = env.reset()\n",
        "for i in range(30):\n",
        "  observation, _,_,_ = env.step(0)\n",
        "observation_pp = pre_process(observation)\n",
        "\n",
        "f = plt.figure(figsize=(10,3))\n",
        "ax = f.add_subplot(121)\n",
        "ax2 = f.add_subplot(122)\n",
        "ax.imshow(observation); ax.grid('off');\n",
        "ax2.imshow(observation_pp.reshape((80,80))); ax2.grid('off'); plt.title('Preprocessed Observation')"
      ],
      "execution_count": 24,
      "outputs": [
        {
          "output_type": "stream",
          "text": [
            "/usr/local/lib/python2.7/dist-packages/matplotlib/cbook/deprecation.py:107: MatplotlibDeprecationWarning: Passing one of 'on', 'true', 'off', 'false' as a boolean is deprecated; use an actual boolean (True/False) instead.\n",
            "  warnings.warn(message, mplDeprecation, stacklevel=1)\n"
          ],
          "name": "stderr"
        },
        {
          "output_type": "execute_result",
          "data": {
            "text/plain": [
              "Text(0.5,1,'Preprocessed Observation')"
            ]
          },
          "metadata": {
            "tags": []
          },
          "execution_count": 24
        },
        {
          "output_type": "display_data",
          "data": {
            "image/png": "[encoded data removed]",
            "text/plain": [
              "<Figure size 720x216 with 2 Axes>"
            ]
          },
          "metadata": {
            "tags": []
          }
        }
      ]
    },
    {
      "metadata": {
        "id": "mRqcaDQ1pm3x",
        "colab_type": "text"
      },
      "cell_type": "markdown",
      "source": [
        "### 2.4: Training\n",
        "We've already defined our loss function with `compute_loss`, which is great! If we want to use a different learning rate, though, we can reinitialize the `optimizer`:"
      ]
    },
    {
      "metadata": {
        "id": "cIjRZ8JUqBLV",
        "colab_type": "code",
        "colab": {}
      },
      "cell_type": "code",
      "source": [
        "learning_rate=1e-4\n",
        "optimizer = tf.train.AdamOptimizer(learning_rate)"
      ],
      "execution_count": 0,
      "outputs": []
    },
    {
      "metadata": {
        "id": "IL2lMbTDn6Z3",
        "colab_type": "text"
      },
      "cell_type": "markdown",
      "source": [
        "We can also implement a very simple variant of `plot_progress`. In Pong, rather than feeding our network one image at a time, it can actually improve performance to input the difference between two consecutive observations, which really gives us information about the movement between frames. We'll first pre-process the raw observation, `x`, and then we'll compute the difference with the image frame we saw one timestep before. We'll also increase the number of maximum iterations from 1000 to 10000, since we expect it to take many more iterations to learn a more complex game."
      ]
    },
    {
      "metadata": {
        "id": "xCwyQQrPnkZG",
        "colab_type": "code",
        "colab": {}
      },
      "cell_type": "code",
      "source": [
        "pong_model = create_pong_model()\n",
        "MAX_ITERS = 10000\n",
        "\n",
        "smoothed_reward = util.LossHistory(smoothing_factor=0.9)\n",
        "plotter = util.PeriodicPlotter(sec=5, xlabel='Iterations', ylabel='Rewards')\n",
        "memory = Memory()\n",
        "\n",
        "for i_episode in range(MAX_ITERS):\n",
        "\n",
        "  plotter.plot(smoothed_reward.get())\n",
        "\n",
        "  # Restart the environment\n",
        "  observation = env.reset()\n",
        "  previous_frame = pre_process(observation)\n",
        "\n",
        "\n",
        "  while True:\n",
        "      # Pre-process image \n",
        "      current_frame = pre_process(observation)\n",
        "      \n",
        "      '''TODO: determine the observation change\n",
        "      Hint: this is the difference between the past two frames'''\n",
        "      obs_change = current_frame-previous_frame# TODO\n",
        "      \n",
        "      '''TODO: choose an action for the pong model, using the frame difference, and evaluate'''\n",
        "      action = choose_action(pong_model,obs_change)# TODO \n",
        "      # Take the chosen action\n",
        "      next_observation, reward, done, info = env.step(action)\n",
        "      '''TODO: save the observed frame difference, the action that was taken, and the resulting reward!'''\n",
        "      # TODO\n",
        "      memory.add_to_memory(obs_change,action,reward)\n",
        "      # is the episode over? did you crash or do so well that you're done?\n",
        "      if done:\n",
        "          # determine total reward and keep a record of this\n",
        "          total_reward = sum(memory.rewards)\n",
        "          smoothed_reward.append( total_reward )\n",
        "          \n",
        "          # begin training\n",
        "          train_step(pong_model, \n",
        "                     optimizer, \n",
        "                     observations = np.vstack(memory.observations), \n",
        "                     actions = np.array(memory.actions),\n",
        "                     discounted_rewards = discount_rewards(memory.rewards))\n",
        "          \n",
        "          memory.clear()\n",
        "          break\n",
        "\n",
        "      observation = next_observation\n",
        "      previous_frame = current_frame"
      ],
      "execution_count": 0,
      "outputs": []
    },
    {
      "metadata": {
        "id": "nwXjQH-puH5D",
        "colab_type": "text"
      },
      "cell_type": "markdown",
      "source": [
        "### 2.5: Save and display video of training"
      ]
    },
    {
      "metadata": {
        "id": "8LiEY5Y_ts-Z",
        "colab_type": "text"
      },
      "cell_type": "markdown",
      "source": [
        "We can now save the video of our model learning:"
      ]
    },
    {
      "metadata": {
        "id": "TvHXbkL0tR6M",
        "colab_type": "code",
        "colab": {}
      },
      "cell_type": "code",
      "source": [
        "save_video_of_model(pong_model, \"Pong-v0\", filename='pong_agent.mp4')  "
      ],
      "execution_count": 0,
      "outputs": []
    },
    {
      "metadata": {
        "id": "xmIcylIzuWaL",
        "colab_type": "text"
      },
      "cell_type": "markdown",
      "source": [
        "And display the result:"
      ]
    },
    {
      "metadata": {
        "id": "qoOBQSrXt2Ib",
        "colab_type": "code",
        "colab": {}
      },
      "cell_type": "code",
      "source": [
        "from IPython.display import HTML\n",
        "import io, base64\n",
        "video = io.open('./pong_agent.mp4', 'r+b').read()\n",
        "encoded = base64.b64encode(video)\n",
        "HTML(data='''\n",
        "<video controls>\n",
        "    <source src=\"data:video/mp4;base64,{0}\" type=\"video/mp4\" />\n",
        "</video>'''.format(encoded.decode('ascii')))"
      ],
      "execution_count": 0,
      "outputs": []
    }
  ]
}